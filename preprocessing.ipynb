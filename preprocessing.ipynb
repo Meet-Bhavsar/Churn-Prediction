{
 "cells": [
  {
   "cell_type": "code",
   "execution_count": null,
   "id": "5474465b",
   "metadata": {},
   "outputs": [],
   "source": [
    "import pandas as pd\n",
    "import numpy as np\n",
    "from sklearn.preprocessing import StandardScaler, LabelEncoder, OneHotEncoder\n",
    "from sklearn.model_selection import train_test_split\n",
    "import pickle"
   ]
  },
  {
   "cell_type": "code",
   "execution_count": null,
   "id": "b3c6e456",
   "metadata": {},
   "outputs": [],
   "source": [
    "df=pd.read_csv(r\"D:\\DS ML NLP bootcamp\\ANN-project\\Churn_Modelling.csv\")\n",
    "df.head(5)"
   ]
  },
  {
   "cell_type": "markdown",
   "id": "f8b717d0",
   "metadata": {},
   "source": [
    "#### Preprocessing\n",
    "- Drop Irrelevant Information\n",
    "- Categorical variabless to Numeric (Encoding)"
   ]
  },
  {
   "cell_type": "code",
   "execution_count": null,
   "id": "8c1c55db",
   "metadata": {},
   "outputs": [],
   "source": [
    "columns=[\"RowNumber\", \"CustomerId\", \"Surname\"] # irrelevant information\n",
    "df=df.drop(columns, axis=1) "
   ]
  },
  {
   "cell_type": "code",
   "execution_count": null,
   "id": "1bae9a71",
   "metadata": {},
   "outputs": [],
   "source": [
    "#encoding categorical variables\n",
    "label_encoder_gender=LabelEncoder()\n",
    "df['Gender']=label_encoder_gender.fit_transform(df['Gender'])"
   ]
  },
  {
   "cell_type": "code",
   "execution_count": null,
   "id": "914e48be",
   "metadata": {},
   "outputs": [],
   "source": [
    "#onehot Geography\n",
    "onehot_encoder_geography=OneHotEncoder() \n",
    "geo_encoder=onehot_encoder_geography.fit_transform(df[['Geography']])\n",
    "geo_encoder"
   ]
  },
  {
   "cell_type": "code",
   "execution_count": null,
   "id": "808e624a",
   "metadata": {},
   "outputs": [],
   "source": [
    "geo_encoded_df=pd.DataFrame(geo_encoder.toarray(), columns=onehot_encoder_geography.get_feature_names_out(['Geography']) )\n",
    "geo_encoded_df"
   ]
  },
  {
   "cell_type": "code",
   "execution_count": null,
   "id": "1c64b501",
   "metadata": {},
   "outputs": [],
   "source": [
    "# combine categorical encoded features with original features\n",
    "df=pd.concat([df.drop('Geography', axis=1), geo_encoded_df], axis=1)\n",
    "df.head()"
   ]
  },
  {
   "cell_type": "markdown",
   "id": "1428fdbb",
   "metadata": {},
   "source": [
    "#### All of the features in dataframe are now in numerical format"
   ]
  },
  {
   "cell_type": "code",
   "execution_count": null,
   "id": "ea45dce5",
   "metadata": {},
   "outputs": [],
   "source": [
    "# data set processing for prediction\n",
    "X=df.drop('Exited', axis=1)\n",
    "y=df['Exited']\n",
    "\n",
    "X_train,X_test,y_train,y_test=train_test_split(X,y,test_size=0.2, random_state=42)\n",
    "\n",
    "scaler=StandardScaler()\n",
    "X_train_scaled=scaler.fit_transform(X_train)\n",
    "X_test=scaler.transform(X_test)"
   ]
  },
  {
   "cell_type": "code",
   "execution_count": null,
   "id": "0858679c",
   "metadata": {},
   "outputs": [],
   "source": [
    "# save encoder and scaler for prediction and further usage\n",
    "with open('label_encoder_gender.pkl', 'wb') as file:\n",
    "    pickle.dump(label_encoder_gender,file)\n",
    "    \n",
    "with open('onehot_encoder_geography.pkl', 'wb') as file:\n",
    "    pickle.dump(onehot_encoder_geography,file)\n",
    "    \n",
    "with open('scaler.pkl', 'wb') as file:\n",
    "    pickle.dump(scaler,file)"
   ]
  },
  {
   "cell_type": "markdown",
   "id": "75f26d69",
   "metadata": {},
   "source": [
    "## ANN Implementation"
   ]
  },
  {
   "cell_type": "code",
   "execution_count": null,
   "id": "b3066f92",
   "metadata": {},
   "outputs": [],
   "source": [
    "import datetime\n",
    "import tensorflow as tf\n",
    "from tensorflow.keras.models import Sequential\n",
    "from tensorflow.keras.layers import Dense\n",
    "from tensorflow.keras.callbacks import EarlyStopping, TensorBoard"
   ]
  },
  {
   "cell_type": "code",
   "execution_count": null,
   "id": "496bb672",
   "metadata": {},
   "outputs": [],
   "source": [
    "model=Sequential([\n",
    "    Dense(64, activation='relu', input_shape=(X_train.shape[1], )), # hidden layer 1 (connected with input layer)\n",
    "    Dense(32, activation='relu'), # hidden layer 2\n",
    "    Dense(1, activation='sigmoid') # output layer\n",
    "])"
   ]
  },
  {
   "cell_type": "code",
   "execution_count": null,
   "id": "ca69d342",
   "metadata": {},
   "outputs": [],
   "source": [
    "model.summary()"
   ]
  },
  {
   "cell_type": "code",
   "execution_count": null,
   "id": "26d10f43",
   "metadata": {},
   "outputs": [],
   "source": [
    "# compile model\n",
    "opt=tf.keras.optimizers.Adam(learning_rate=0.01)\n",
    "loss=tf.keras.losses.BinaryCrossentropy()\n",
    "\n",
    "model.compile(optimizer=opt, loss=loss, metrics=['accuracy'])"
   ]
  },
  {
   "cell_type": "code",
   "execution_count": 29,
   "id": "491ab39d",
   "metadata": {},
   "outputs": [],
   "source": [
    "#setup the tensor board\n",
    "log_dir=\"logs/fit/\" + datetime.datetime.now().strftime(\"%Y-%m-%d-%H%M%S\")\n",
    "tensorflow_callback=TensorBoard(log_dir=log_dir, histogram_freq=1)"
   ]
  },
  {
   "cell_type": "code",
   "execution_count": null,
   "id": "a9b0ea0c",
   "metadata": {},
   "outputs": [],
   "source": [
    "#set up early stopping\n",
    "early_stopping_callback=EarlyStopping(monitor='val_loss', patience=5, restore_best_weights=True)"
   ]
  },
  {
   "cell_type": "code",
   "execution_count": null,
   "id": "bde5cd03",
   "metadata": {},
   "outputs": [],
   "source": [
    "# train the model\n",
    "history=model.fit(\n",
    "    X_train, y_train, validation_data=(X_test, y_test), epochs=100,\n",
    "    callbacks=[tensorflow_callback, early_stopping_callback]\n",
    ")"
   ]
  },
  {
   "cell_type": "code",
   "execution_count": null,
   "id": "acf00c69",
   "metadata": {},
   "outputs": [],
   "source": [
    "model.save(\"model.h5\")"
   ]
  },
  {
   "cell_type": "code",
   "execution_count": null,
   "id": "1100c7fd",
   "metadata": {},
   "outputs": [],
   "source": [
    "# load tensorboard extension\n",
    "%load_ext tensorboard"
   ]
  },
  {
   "cell_type": "code",
   "execution_count": null,
   "id": "b83666b3",
   "metadata": {},
   "outputs": [],
   "source": [
    "%tensorboard --logdir logs/fit"
   ]
  }
 ],
 "metadata": {
  "kernelspec": {
   "display_name": "Python 3",
   "language": "python",
   "name": "python3"
  },
  "language_info": {
   "codemirror_mode": {
    "name": "ipython",
    "version": 3
   },
   "file_extension": ".py",
   "mimetype": "text/x-python",
   "name": "python",
   "nbconvert_exporter": "python",
   "pygments_lexer": "ipython3",
   "version": "3.11.0"
  }
 },
 "nbformat": 4,
 "nbformat_minor": 5
}
