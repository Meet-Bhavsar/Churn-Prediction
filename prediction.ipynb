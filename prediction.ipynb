{
 "cells": [
  {
   "cell_type": "markdown",
   "id": "5064f9cf",
   "metadata": {},
   "source": [
    "## Making predictions on the trained model"
   ]
  },
  {
   "cell_type": "code",
   "execution_count": null,
   "id": "fbb35ac9",
   "metadata": {},
   "outputs": [],
   "source": [
    "import tensorflow as tf\n",
    "from tensorflow.keras.models import load_model\n",
    "import pickle\n",
    "import pandas as pd\n",
    "import numpy as np"
   ]
  },
  {
   "cell_type": "code",
   "execution_count": null,
   "id": "9d4c6a51",
   "metadata": {},
   "outputs": [],
   "source": [
    "# load all pkl files and model.h5 file\n",
    "model=load_model(\"model.h5\")\n",
    "\n",
    "with open(\"label_encoder_gender.pkl\", 'rb') as file:\n",
    "    label_encoder_gender = pickle.load(file)\n",
    "\n",
    "with open(\"onehot_encoder_geography.pkl\", 'rb') as file:\n",
    "    onehot_encoder_geography = pickle.load(file)\n",
    "\n",
    "with open(\"scaler.pkl\", 'rb') as file:\n",
    "    scaler = pickle.load(file)"
   ]
  },
  {
   "cell_type": "code",
   "execution_count": null,
   "metadata": {},
   "outputs": [],
   "source": [
    "df=pd.read_csv(\"preprocessed_data.csv\")\n",
    "df.columns"
   ]
  },
  {
   "cell_type": "code",
   "execution_count": null,
   "id": "d1d52ea3",
   "metadata": {},
   "outputs": [],
   "source": [
    "# testing\n",
    "input_data = {\n",
    "    'CreditScore' : 600, \n",
    "    'Geography' : 'France',\n",
    "    'Gender' : 'Male', \n",
    "    'Age' : 40, \n",
    "    'Tenure' : 3, \n",
    "    'Balance' : 60000,\n",
    "    'NumOfProducts' : 2, \n",
    "    'HasCrCard' : 1, \n",
    "    'IsActiveMember' : 1, \n",
    "    'EstimatedSalary' : 50000,\n",
    "}\n",
    "input_df=pd.DataFrame([input_data])"
   ]
  },
  {
   "cell_type": "code",
   "execution_count": null,
   "id": "1cc6a689",
   "metadata": {},
   "outputs": [],
   "source": [
    "geo_encoded = onehot_encoder_geography.transform([[input_data['Geography']]]).toarray()\n",
    "geo_encoded_df = pd.DataFrame(geo_encoded, columns=onehot_encoder_geography.get_feature_names_out(['Geography']))\n",
    "geo_encoded_df"
   ]
  },
  {
   "cell_type": "code",
   "execution_count": null,
   "id": "3cd66ca9",
   "metadata": {},
   "outputs": [],
   "source": [
    "input_df['Gender']=label_encoder_gender.transform(input_df['Gender'])"
   ]
  },
  {
   "cell_type": "code",
   "execution_count": null,
   "id": "f91d4017",
   "metadata": {},
   "outputs": [],
   "source": [
    "input_df = pd.concat([input_df.drop(\"Geography\", axis=1), geo_encoded_df], axis=1)\n",
    "input_df"
   ]
  },
  {
   "cell_type": "code",
   "execution_count": null,
   "id": "867f3367",
   "metadata": {},
   "outputs": [],
   "source": [
    "input_scaled = scaler.transform(input_df)\n",
    "input_scaled"
   ]
  },
  {
   "cell_type": "code",
   "execution_count": null,
   "id": "2fb990d3",
   "metadata": {},
   "outputs": [],
   "source": [
    "prediction = model.predict(input_scaled)\n",
    "prediction"
   ]
  },
  {
   "cell_type": "code",
   "execution_count": null,
   "id": "ff0a4db8",
   "metadata": {},
   "outputs": [],
   "source": [
    "prediction_probability =  prediction[0][0]\n",
    "prediction_probability"
   ]
  },
  {
   "cell_type": "code",
   "execution_count": null,
   "id": "9a0055e5",
   "metadata": {},
   "outputs": [],
   "source": [
    "if prediction_probability > 0.5:\n",
    "    print(\"The customer is likely to churn.\")\n",
    "else:\n",
    "    print(\"The customer is not likely to churn.\")\n",
    "    "
   ]
  }
 ],
 "metadata": {
  "kernelspec": {
   "display_name": "Python 3",
   "language": "python",
   "name": "python3"
  },
  "language_info": {
   "codemirror_mode": {
    "name": "ipython",
    "version": 3
   },
   "file_extension": ".py",
   "mimetype": "text/x-python",
   "name": "python",
   "nbconvert_exporter": "python",
   "pygments_lexer": "ipython3",
   "version": "3.11.0"
  }
 },
 "nbformat": 4,
 "nbformat_minor": 5
}
